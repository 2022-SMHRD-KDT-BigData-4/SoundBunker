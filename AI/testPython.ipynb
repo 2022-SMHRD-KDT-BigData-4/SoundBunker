{
 "cells": [
  {
   "cell_type": "code",
   "execution_count": null,
   "id": "b325328f",
   "metadata": {},
   "outputs": [
    {
     "data": {
      "text/plain": [
       "3"
      ]
     },
     "execution_count": 1,
     "metadata": {},
     "output_type": "execute_result"
    }
   ],
   "source": [
    "a = 1 \n",
    "b = 2\n",
    "a+b+b"
   ]
  },
  {
   "cell_type": "code",
   "execution_count": 1,
   "id": "160562df",
   "metadata": {},
   "outputs": [
    {
     "data": {
      "text/plain": [
       "3"
      ]
     },
     "execution_count": 1,
     "metadata": {},
     "output_type": "execute_result"
    }
   ],
   "source": [
    "c = 1 \n",
    "d = 2 \n",
    "c+d"
   ]
  },
  {
   "cell_type": "code",
   "execution_count": 1,
   "id": "8dc30f89",
   "metadata": {},
   "outputs": [
    {
     "data": {
      "text/plain": [
       "123456"
      ]
     },
     "execution_count": 1,
     "metadata": {},
     "output_type": "execute_result"
    }
   ],
   "source": [
    "123456"
   ]
  },
  {
   "cell_type": "code",
   "execution_count": 2,
   "id": "0b1d2956",
   "metadata": {},
   "outputs": [
    {
     "ename": "NameError",
     "evalue": "name '보현이바보' is not defined",
     "output_type": "error",
     "traceback": [
      "\u001b[1;31m---------------------------------------------------------------------------\u001b[0m",
      "\u001b[1;31mNameError\u001b[0m                                 Traceback (most recent call last)",
      "\u001b[1;32m~\\AppData\\Local\\Temp/ipykernel_16356/4241193222.py\u001b[0m in \u001b[0;36m<module>\u001b[1;34m\u001b[0m\n\u001b[1;32m----> 1\u001b[1;33m \u001b[0m보현이바보\u001b[0m\u001b[1;33m\u001b[0m\u001b[1;33m\u001b[0m\u001b[0m\n\u001b[0m",
      "\u001b[1;31mNameError\u001b[0m: name '보현이바보' is not defined"
     ]
    }
   ],
   "source": [
    "보현이바보"
   ]
  },
  {
   "cell_type": "code",
   "execution_count": 3,
   "id": "ec0bad21",
   "metadata": {},
   "outputs": [
    {
     "ename": "NameError",
     "evalue": "name 'test할게요123456' is not defined",
     "output_type": "error",
     "traceback": [
      "\u001b[1;31m---------------------------------------------------------------------------\u001b[0m",
      "\u001b[1;31mNameError\u001b[0m                                 Traceback (most recent call last)",
      "Input \u001b[1;32mIn [3]\u001b[0m, in \u001b[0;36m<cell line: 1>\u001b[1;34m()\u001b[0m\n\u001b[1;32m----> 1\u001b[0m \u001b[43mtest할게요123456\u001b[49m\n",
      "\u001b[1;31mNameError\u001b[0m: name 'test할게요123456' is not defined"
     ]
    }
   ],
   "source": [
    "test할게요123456"
   ]
  },
  {
   "cell_type": "code",
   "execution_count": 3,
   "id": "de85f1a1",
   "metadata": {},
   "outputs": [
    {
     "ename": "NameError",
     "evalue": "name '서영이바보' is not defined",
     "output_type": "error",
     "traceback": [
      "\u001b[1;31m---------------------------------------------------------------------------\u001b[0m",
      "\u001b[1;31mNameError\u001b[0m                                 Traceback (most recent call last)",
      "\u001b[1;32m~\\AppData\\Local\\Temp/ipykernel_16356/2435465889.py\u001b[0m in \u001b[0;36m<module>\u001b[1;34m\u001b[0m\n\u001b[1;32m----> 1\u001b[1;33m \u001b[0m서영이바보\u001b[0m\u001b[1;33m\u001b[0m\u001b[1;33m\u001b[0m\u001b[0m\n\u001b[0m",
      "\u001b[1;31mNameError\u001b[0m: name '서영이바보' is not defined"
     ]
    }
   ],
   "source": [
    "서영이바보"
   ]
  },
  {
   "cell_type": "code",
   "execution_count": null,
   "id": "730efa8e",
   "metadata": {},
   "outputs": [],
   "source": []
  }
 ],
 "metadata": {
  "kernelspec": {
   "display_name": "Python 3 (ipykernel)",
   "language": "python",
   "name": "python3"
  },
  "language_info": {
   "codemirror_mode": {
    "name": "ipython",
    "version": 3
   },
   "file_extension": ".py",
   "mimetype": "text/x-python",
   "name": "python",
   "nbconvert_exporter": "python",
   "pygments_lexer": "ipython3",
   "version": "3.8.13"
  }
 },
 "nbformat": 4,
 "nbformat_minor": 5
}
